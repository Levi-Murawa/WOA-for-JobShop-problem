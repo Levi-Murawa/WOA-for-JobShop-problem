{
 "cells": [
  {
   "cell_type": "markdown",
   "metadata": {},
   "source": [
    "W poniższej komórce zaczytujemy biblioteki potrzebne do wykonania zadania. WOA_TM, to biliblitoeka z optymalizacją wieloryba, matplotlib to najpopularniejsza biliboteka do rysowania wykresów, co przyda nam się do zbadania naszej optymalizacji."
   ]
  },
  {
   "cell_type": "code",
   "execution_count": null,
   "metadata": {},
   "outputs": [],
   "source": [
    "import WOA_TM\n",
    "import matplotlib.pyplot as plt"
   ]
  },
  {
   "cell_type": "markdown",
   "metadata": {},
   "source": [
    "## Podstawy biblioteki\n",
    "\n",
    "Przejdźmy do zadania pierwszego, zostały w nim przedstawione podstawy biliboteki i możliwości jakie daje. Dzięki poniższemu przykładowi możecie się zorientować jakimi funkcjami operuje WOA. \n",
    "\n",
    "Zaczynamy od zaczytania danych WOA_TM.jobs_data2 przywołuje jedną z czterech zapisanych tablic (możesz je przywołać za pomocą WOA_TM.jobs_dataX gdzie X przyjmuje wartość 1, 2, 3 lub 4).\n",
    "\n",
    "Liczenie maszyn to po prostu sprawdzenie ile maszyn występuje w danej pracy, dzięki temu skrypt się nie zacina kiedy ktoś wpisał maszynę 11, a nie ma masyzny numer 10, co dla komputera normalnie mogło by być problemem. \n",
    "\n",
    "WOA_TM.pod_rozw znajduje podstawowe rozwiązanie problemu,jest to punkt wyjścia dla wielorybów.\n",
    "\n",
    "WOA_TM.woa to już optymalizacja, zwraca ona trzy wartości, czas najlepszej aktualizacji, dane przygotowane do wyświetlenia w postaci Diagramu Gantta oraz najlepsze rozwiązanie w postaci kolejki. "
   ]
  },
  {
   "cell_type": "code",
   "execution_count": null,
   "metadata": {},
   "outputs": [],
   "source": [
    "print('\\n', \"Podstawy biblioteki:\")\n",
    "przyklad1 = WOA_TM.jobs_data2\n",
    "liczenie_maszyn = 1 + max(task[0] for job in przyklad1 for task in job)\n",
    "rozw = WOA_TM.pod_rozw(przyklad1)\n",
    "min_czas, naj_har, naj_roz = WOA_TM.woa(przyklad1, rozw, liczenie_maszyn, 10)\n",
    "print(\"Najmniejszy znaleziony czas:\", min_czas)\n",
    "print(\"Wektor rozwiazania:\", naj_roz)\n",
    "print(\"Rysowanie Diagramu Gantta \")\n",
    "WOA_TM.harmo_plot(naj_har)"
   ]
  },
  {
   "cell_type": "markdown",
   "metadata": {},
   "source": [
    "## Badanie skuteczności w zależności od ilości testów\n",
    "\n",
    "Powyższy przykład był jednak prosty, postarajmy się zbadać jak skuteczny będzie ten skrypt dla potężniejszej tablicy 10 na 10 w zależności od ilości iteracji. W przypadku jednego przelotu program powinien dawać bardzo różne i zazwyczaj niestabilne wyniki, gdzie w przypadku większej liczby przelotów ta liczba powinna być mniejsza i stabilniejsza. Możesz również zobaczyć różnice w czasie działania programu dla różnych zadanych wartości.\n",
    "Dla mniejszych tabel stabilizacja i pewna wartość minimalna powinna zostać osiągnięta znacznie wcześniej, możesz to sprawdzić podmieniając w drugiej linijce jobs_data4 na na przykład jobs_data3 lub nawet jobs_data2."
   ]
  },
  {
   "cell_type": "code",
   "execution_count": null,
   "metadata": {},
   "outputs": [],
   "source": [
    "print('\\n', \"Badanie skuteczności w zależności od ilości testów:\")\n",
    "przyklad2 = WOA_TM.jobs_data4\n",
    "liczenie_maszyn = 1 + max(task[0] for job in przyklad2 for task in job)\n",
    "rozw = WOA_TM.pod_rozw(przyklad2)\n",
    "min_czas1, naj_har, naj_roz = WOA_TM.woa(przyklad2, rozw, liczenie_maszyn, 1)\n",
    "print(\"Czas rozwiązania dla pojedyńczego przebiegu:\", min_czas1)\n",
    "min_czas2, naj_har, naj_roz = WOA_TM.woa(przyklad2, rozw, liczenie_maszyn, 10)\n",
    "print(\"Czas rozwiązania dla dziesięciu przebiegów:\", min_czas2)\n",
    "min_czas3, naj_har, naj_roz = WOA_TM.woa(przyklad2, rozw, liczenie_maszyn, 100)\n",
    "print(\"Czas rozwiązania dla stu przebiegów:\", min_czas3)"
   ]
  },
  {
   "cell_type": "markdown",
   "metadata": {},
   "source": [
    "## Badanie stabilności wyników dla różnych ilości przebiegów\n",
    "\n",
    "Poniższą komórkę możesz odpalić zanim przejdziesz do dalszego czytania. \n",
    "\n",
    "Wprawdzie przed chwilą sprawdziliśmy mniej więcej jak małe czasy i jak powtarzalnie jesteśmy w tanie uzyskać ten wyniki, jednak o wiele lepiej będzie sprawdzić to dla wielu, WIELU prób. Poniższa komórka właśnie to robi, bierze jedną tablicę i wykonuje na niej operację cztery razy dla danej ilości iteracji, następnie liczba iteracji wzrasta i cały proces jest powtarzalny.\n",
    "Domyślnie ustawiony został przedział od jednej iteracji do aż 30, jednak możesz tą liczbę zmienić w 7 linijce zmieniając wartość w funckji range() na jakąś inną, uważaj jednak, ten proces może na prawdę sporo potrfać, nawet na mocniejszych komputerach."
   ]
  },
  {
   "cell_type": "code",
   "execution_count": null,
   "metadata": {},
   "outputs": [],
   "source": [
    "print('\\n', \"Badanie stabilności wyników dla różnych ilości przebiegów:\")\n",
    "przyklad3 = WOA_TM.jobs_data4\n",
    "liczenie_maszyn = 1 + max(task[0] for job in przyklad3 for task in job)\n",
    "rozw = WOA_TM.pod_rozw(przyklad3)\n",
    "wektor_z_czasami = []\n",
    "wektor_sredni = []\n",
    "zakres_badania = range(30)\n",
    "for i in zakres_badania:\n",
    "    wynik1 = WOA_TM.woa(przyklad3, rozw, liczenie_maszyn, i)\n",
    "    wynik2 = WOA_TM.woa(przyklad3, rozw, liczenie_maszyn, i)\n",
    "    wynik3 = WOA_TM.woa(przyklad3, rozw, liczenie_maszyn, i)\n",
    "    wynik4 = WOA_TM.woa(przyklad3, rozw, liczenie_maszyn, i)\n",
    "    wynik_s = (wynik1[0]+wynik2[0]+wynik3[0]+wynik4[0])/4\n",
    "    wektor_z_czasami.append([wynik1[0], wynik2[0], wynik3[0], wynik4[0]])\n",
    "    wektor_sredni.append(wynik_s)\n",
    "\n",
    "fig, ax = plt.subplots()\n",
    "ax.plot(zakres_badania, wektor_z_czasami, linewidth=2.0)\n",
    "plt.show()\n",
    "\n",
    "fig, ax = plt.subplots()\n",
    "ax.plot(zakres_badania, wektor_sredni, linewidth=2.0)\n",
    "plt.show()"
   ]
  },
  {
   "cell_type": "markdown",
   "metadata": {},
   "source": [
    "Teraz trochę o wynikach. Jeśli komórka już przemieliła dane, ojawiły się dwa wykresy. Wykres u góry, bardziej kolorowy, przedstawia przebieg czterech wartości osobno, wykres poniżej zawiera uśrednione wartości.\n",
    "\n",
    "W pierwszym należy zwrócić uwagę na ogólny rostrzał wartości, im więcej przebiegów tym bardziej zbliżone wartości powinny być uzyskiwane, możesz to sprawdzić podając w powyższej komórce inne dane wejściowe, jak na przykład prostszą tablicę. Może się okazać, że dla najprostszych przypadków wykres się szybko całkowicie wypłaszcza.\n",
    "\n",
    "Dla bardziej skomplikowanych przykładów jednak możesz zobaczyć ten sam proces na początku zbioru, gdzie liczba przebiegów jest śmiesznie niska. Zgadza się to z naszymi oczekiwaniami, gdyż algorytmy losowe mają skłonności do wpadania w ekstrema lokalne, przy niższych wartościach nie są w stanie się z nich wydostać, przy wyższych być może znalazły najlepsze rozwiązanie w przesukiwanym zbiorze. \n",
    "\n",
    "Spójrzmy teraz na drugi wykres, jest on znacznie bardziej czytelny, dzięki czemu łatwiej nam zobaczyć ogólną tendencję, na jego podstawie możesz wywnioskować ile przebiegów jest optymalnych dla danej wielkości zbioru (sama zawartość zbioru nie jest istotna, gdyż algorymty losowe są odporne na trudne dane). Jeśli masz czas zwiększ zakres przeszukiwania dla powyższej tablicy do 100, i spróbuj znaleźć liczbę, dla której drugi wykres przestał opadać, jeśli masz mniej czasu, spróbuj znaleźć tą wartość dla jobs_data3 albo 2."
   ]
  }
 ],
 "metadata": {
  "kernelspec": {
   "display_name": "Python 3 (ipykernel)",
   "language": "python",
   "name": "python3"
  },
  "language_info": {
   "codemirror_mode": {
    "name": "ipython",
    "version": 3
   },
   "file_extension": ".py",
   "mimetype": "text/x-python",
   "name": "python",
   "nbconvert_exporter": "python",
   "pygments_lexer": "ipython3",
   "version": "3.9.3"
  },
  "vscode": {
   "interpreter": {
    "hash": "91ae8e328fd58758ec4e639406c2b7b198698514bde38d117e4f56b05702f38a"
   }
  }
 },
 "nbformat": 4,
 "nbformat_minor": 2
}
